{
 "cells": [
  {
   "cell_type": "code",
   "execution_count": 1,
   "id": "handed-census",
   "metadata": {},
   "outputs": [],
   "source": [
    "import numpy as np\n",
    "import matplotlib.pyplot as plt  # To visualize\n",
    "import pandas as pd  # To read data\n",
    "from sklearn.linear_model import LinearRegression\n",
    "import urllib\n",
    "from urllib import request"
   ]
  },
  {
   "cell_type": "code",
   "execution_count": 4,
   "id": "compound-member",
   "metadata": {},
   "outputs": [
    {
     "name": "stdout",
     "output_type": "stream",
     "text": [
      "[[2.4000e+01 6.3200e-03 1.8000e+01 ... 5.3800e-01 6.5750e+00 4.0900e+00]\n",
      " [2.1600e+01 2.7310e-02 0.0000e+00 ... 4.6900e-01 6.4210e+00 4.9671e+00]\n",
      " [3.4700e+01 2.7290e-02 0.0000e+00 ... 4.6900e-01 7.1850e+00 4.9671e+00]\n",
      " ...\n",
      " [2.3900e+01 6.0760e-02 0.0000e+00 ... 5.7300e-01 6.9760e+00 2.1675e+00]\n",
      " [2.2000e+01 1.0959e-01 0.0000e+00 ... 5.7300e-01 6.7940e+00 2.3889e+00]\n",
      " [1.1900e+01 4.7410e-02 0.0000e+00 ... 5.7300e-01 6.0300e+00 2.5050e+00]]\n"
     ]
    }
   ],
   "source": [
    "fname = 'https://stepic.org/media/attachments/lesson/16462/boston_houses.csv'  # read file name from stdin\n",
    "f = urllib.request.urlopen(fname)  # open file from URL\n",
    "data = np.loadtxt(f, delimiter=',', skiprows=1)  # load data to work with\n",
    "\n",
    "# here goes your solution\n",
    "print(data)"
   ]
  },
  {
   "cell_type": "code",
   "execution_count": 11,
   "id": "seven-latex",
   "metadata": {},
   "outputs": [],
   "source": [
    "X = data[::,0].reshape(-1,1)"
   ]
  },
  {
   "cell_type": "code",
   "execution_count": 20,
   "id": "little-converter",
   "metadata": {},
   "outputs": [],
   "source": [
    "Y = data[::, 1::].reshape(-1, data.shape[1]-1)  # -1 means that calculate the dimension of rows, but have 1 column"
   ]
  },
  {
   "cell_type": "code",
   "execution_count": 27,
   "id": "instructional-publisher",
   "metadata": {},
   "outputs": [],
   "source": [
    "linear_regressor = LinearRegression()  # create object for the class\n",
    "reg = linear_regressor.fit(Y, X)  # perform linear regression\n",
    "X_pred = reg.predict(Y)  # make predictions"
   ]
  },
  {
   "cell_type": "code",
   "execution_count": 34,
   "id": "wrapped-glasgow",
   "metadata": {},
   "outputs": [
    {
     "data": {
      "text/plain": [
       "array([[ -0.2163955 ,   0.0737306 ,   4.41245058, -25.46844878,\n",
       "          7.14320155,  -1.30108768]])"
      ]
     },
     "execution_count": 34,
     "metadata": {},
     "output_type": "execute_result"
    }
   ],
   "source": [
    "reg.coef_"
   ]
  },
  {
   "cell_type": "code",
   "execution_count": 35,
   "id": "horizontal-melissa",
   "metadata": {},
   "outputs": [
    {
     "data": {
      "text/plain": [
       "array([-3.65580429])"
      ]
     },
     "execution_count": 35,
     "metadata": {},
     "output_type": "execute_result"
    }
   ],
   "source": [
    "reg.intercept_"
   ]
  },
  {
   "cell_type": "code",
   "execution_count": 36,
   "id": "stone-denver",
   "metadata": {},
   "outputs": [],
   "source": [
    "#теперь делаем через матрицы"
   ]
  },
  {
   "cell_type": "code",
   "execution_count": 81,
   "id": "ancient-river",
   "metadata": {},
   "outputs": [
    {
     "name": "stdout",
     "output_type": "stream",
     "text": [
      "[[1.0000e+00 6.3200e-03 1.8000e+01 ... 5.3800e-01 6.5750e+00 4.0900e+00]\n",
      " [1.0000e+00 2.7310e-02 0.0000e+00 ... 4.6900e-01 6.4210e+00 4.9671e+00]\n",
      " [1.0000e+00 2.7290e-02 0.0000e+00 ... 4.6900e-01 7.1850e+00 4.9671e+00]\n",
      " ...\n",
      " [1.0000e+00 6.0760e-02 0.0000e+00 ... 5.7300e-01 6.9760e+00 2.1675e+00]\n",
      " [1.0000e+00 1.0959e-01 0.0000e+00 ... 5.7300e-01 6.7940e+00 2.3889e+00]\n",
      " [1.0000e+00 4.7410e-02 0.0000e+00 ... 5.7300e-01 6.0300e+00 2.5050e+00]]\n"
     ]
    }
   ],
   "source": [
    "X_matrix = X\n",
    "Y_matrix = np.c_[np.ones(Y.shape[0]),Y]\n",
    "print(Y_matrix)"
   ]
  },
  {
   "cell_type": "code",
   "execution_count": 108,
   "id": "adverse-fence",
   "metadata": {},
   "outputs": [],
   "source": [
    "beta = np.linalg.inv((Y_matrix.T.dot(Y_matrix))).dot(Y_matrix.T).dot(X_matrix)"
   ]
  },
  {
   "cell_type": "code",
   "execution_count": 115,
   "id": "complete-experience",
   "metadata": {},
   "outputs": [
    {
     "name": "stdout",
     "output_type": "stream",
     "text": [
      "-3.6558042850732986 -0.21639550236912594 0.07373059817547865 4.412450576912806 -25.468448784090892 7.143201550746702 -1.301087677648551\n"
     ]
    }
   ],
   "source": [
    "print(' '.join(map(str,map(float,beta))))"
   ]
  },
  {
   "cell_type": "code",
   "execution_count": null,
   "id": "adult-guitar",
   "metadata": {},
   "outputs": [],
   "source": []
  }
 ],
 "metadata": {
  "kernelspec": {
   "display_name": "Python 3 (ipykernel)",
   "language": "python",
   "name": "python3"
  },
  "language_info": {
   "codemirror_mode": {
    "name": "ipython",
    "version": 3
   },
   "file_extension": ".py",
   "mimetype": "text/x-python",
   "name": "python",
   "nbconvert_exporter": "python",
   "pygments_lexer": "ipython3",
   "version": "3.9.2"
  }
 },
 "nbformat": 4,
 "nbformat_minor": 5
}
